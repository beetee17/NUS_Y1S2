{
 "cells": [
  {
   "cell_type": "code",
   "execution_count": 6,
   "metadata": {},
   "outputs": [],
   "source": [
    "from Calculator import *"
   ]
  },
  {
   "cell_type": "code",
   "execution_count": 14,
   "metadata": {},
   "outputs": [
    {
     "name": "stdout",
     "output_type": "stream",
     "text": [
      "3.557142857142858 7.7061904761904705\n"
     ]
    }
   ],
   "source": [
    "sample = [(58.5, 60), (60.3, 54.9), (61.7, 58.1), (69, 62.1), (64, 58.5), (62.6, 59.9), (56.7, 54.4)]\n",
    "diff = [x[0] - x[1] for x in sample]\n",
    "\n",
    "n = len(sample)\n",
    "mu = 4.5\n",
    "\n",
    "d_bar = mean(diff)\n",
    "var_d = variance(diff)\n",
    "\n",
    "print(d_bar, var_d)"
   ]
  },
  {
   "cell_type": "code",
   "execution_count": 15,
   "metadata": {},
   "outputs": [
    {
     "name": "stdout",
     "output_type": "stream",
     "text": [
      "X ~ t(6.0000)\n",
      "T = ( 3.5571 - 4.5000 ) / ( 2.7760 / sqrt(7.0000 )) = -0.8986,\n",
      "For 6 degrees of freedom,\n",
      "P(T < 2.4469) = 0.9750\n"
     ]
    }
   ],
   "source": [
    "t = T(n - 1)\n",
    "alpha = 0.05\n",
    "t_statistic = T.statistic(d_bar, mu, sqrt(var_d), n)\n",
    "t_alpha2 = t.inverse(alpha / 2) "
   ]
  },
  {
   "cell_type": "code",
   "execution_count": 18,
   "metadata": {},
   "outputs": [
    {
     "name": "stdout",
     "output_type": "stream",
     "text": [
      "40.583333333333336 249.3560606060606\n",
      "X ~ t(11.0000)\n",
      "For 11 degrees of freedom,\n",
      "P(T < 2.2010) = 0.9750\n",
      "(30.550202963786802, 50.61646370287987)\n"
     ]
    }
   ],
   "source": [
    "preburn = [50, 50, 82, 64, 82, 73, 77, 54, 23, 45, 36, 54]\n",
    "postburn = [9, 18, 45, 18, 18, 9, 32, 9, 18, 9, 9, 9]\n",
    "n = 12\n",
    "\n",
    "diff = [preburn[i] - postburn[i] for i in range(n)]\n",
    "\n",
    "d_bar = mean(diff)\n",
    "var_d = variance(diff)\n",
    "\n",
    "print(d_bar, var_d)\n",
    "\n",
    "alpha = 0.05\n",
    "t = T(n-1)\n",
    "t_alpha2 = t.inverse(alpha / 2)\n",
    "\n",
    "lower_CI = d_bar - t_alpha2 * sqrt(var_d / n)\n",
    "upper_CI = d_bar + t_alpha2 * sqrt(var_d / n)\n",
    "\n",
    "print((lower_CI, upper_CI))"
   ]
  },
  {
   "cell_type": "code",
   "execution_count": 42,
   "metadata": {},
   "outputs": [
    {
     "name": "stdout",
     "output_type": "stream",
     "text": [
      "105.92711462450585 77.41383399209484\n",
      "F ~ F(22.0000, 22.0000)\n",
      "For (22, 22) degrees of freedom,\n",
      "P(F < 2.3579) = 0.9750\n",
      "(0.5803187955665072, 3.2263426901079684)\n",
      "(0.7617865813772957, 1.7962022965434512)\n"
     ]
    }
   ],
   "source": [
    "new_supplier = [530.3, 559.3, 549.4, 544, 551.7, 566.3, 549.9, 556.9, 536.7, 558.8, 538.8, 543.3, 559.1, 555, 538.6, 551.1, 565.4, 554.9, 550, 554.9, 554.7, 536.1, 569.1]\n",
    "old_supplier = [559.7, 534.7, 554.8, 545, 544.6, 538, 550.7, 563.1, 551.1, 553.8, 538.8, 564.6, 554.5, 553, 538.4, 548.3, 552.9, 535.1, 555, 544.8, 558.4, 548.7, 560.3]\n",
    "\n",
    "n1 = len(new_supplier)\n",
    "n2 = len(old_supplier)\n",
    "\n",
    "var_1 = variance(new_supplier)\n",
    "var_2 = variance(old_supplier)\n",
    "\n",
    "print(var_1, var_2)\n",
    "\n",
    "f = F(n1 - 1, n2 - 1, \"F\")\n",
    "alpha = 0.05\n",
    "f_alpha2 = f.inverse(alpha / 2)\n",
    "\n",
    "lower = (var_1 / var_2) * (1 / f_alpha2)\n",
    "upper = (var_1 / var_2) * (f_alpha2)\n",
    "\n",
    "\n",
    "print((lower, upper))\n",
    "\n",
    "print((sqrt(lower), sqrt(upper)))"
   ]
  },
  {
   "cell_type": "code",
   "execution_count": 29,
   "metadata": {},
   "outputs": [
    {
     "name": "stdout",
     "output_type": "stream",
     "text": [
      "0.1406666666666667 0.1385 7.483333333333289e-06\n",
      "X ~ t(10.0000)\n",
      "For 10 degrees of freedom,\n",
      "P(T < 1.8125) = 0.9500\n",
      "1.3718454398776747\n"
     ]
    }
   ],
   "source": [
    "A = [0.14, 0.138, 0.143, 0.142, 0.144, 0.137]\n",
    "B = [0.135, 0.14, 0.136, 0.142, 0.138, 0.14]\n",
    "\n",
    "n_A = len(A)\n",
    "n_B = len(B)\n",
    "\n",
    "xbar_A = mean(A)\n",
    "xbar_B = mean(B)\n",
    "s_p2 = pooled_variance(A, B)\n",
    "\n",
    "print(xbar_A, xbar_B, s_p2)\n",
    "\n",
    "alpha = 0.05\n",
    "t = T(n_A + n_B - 2)\n",
    "t_alpha = t.inverse(alpha)\n",
    "\n",
    "mu_0 = 0\n",
    "\n",
    "t_statistic = (xbar_A - xbar_B) / sqrt(s_p2 * (1/n_A + 1/n_B))\n",
    "print(t_statistic)"
   ]
  },
  {
   "cell_type": "code",
   "execution_count": 31,
   "metadata": {},
   "outputs": [
    {
     "name": "stdout",
     "output_type": "stream",
     "text": [
      "P(Z > 2.5758) = 0.0050\n",
      "(2781.2169064910076, 4818.783093508992)\n"
     ]
    }
   ],
   "source": [
    "alpha = 0.01 \n",
    "z = Normal.inverse(alpha / 2)\n",
    "\n",
    "xbar_1 = 102_300\n",
    "xbar_2 = 98_500\n",
    "\n",
    "s_1 = 5700\n",
    "s_2 = 3800\n",
    "\n",
    "n1 = 300\n",
    "n2 = 300\n",
    "\n",
    "lower = (xbar_1 - xbar_2) - z * sqrt(s_1**2 / n1 + s_2**2 / n2)\n",
    "upper = (xbar_1 - xbar_2) + z * sqrt(s_1**2 / n1 + s_2**2 / n2)\n",
    "\n",
    "print((lower, upper))"
   ]
  },
  {
   "cell_type": "code",
   "execution_count": 36,
   "metadata": {},
   "outputs": [
    {
     "name": "stdout",
     "output_type": "stream",
     "text": [
      "P(Z > 1.9600) = 0.0250\n",
      "(3159.8784431526256, 4440.121556847374)\n",
      "640.1215568473744\n",
      "640.1215568473747\n"
     ]
    }
   ],
   "source": [
    "alpha = 0.05\n",
    "z = Normal.inverse(alpha / 2)\n",
    "\n",
    "s_1 = 4000\n",
    "s_2 = 4000\n",
    "\n",
    "lower = (xbar_1 - xbar_2) - z * sqrt(s_1**2 / n1 + s_2**2 / n2)\n",
    "upper = (xbar_1 - xbar_2) + z * sqrt(s_1**2 / n1 + s_2**2 / n2)\n",
    "\n",
    "print((lower, upper))\n",
    "print((upper - lower) / 2)\n",
    "\n",
    "print(z * (4000 / sqrt(150)))\n",
    "\n"
   ]
  },
  {
   "cell_type": "code",
   "execution_count": 39,
   "metadata": {},
   "outputs": [
    {
     "name": "stdout",
     "output_type": "stream",
     "text": [
      "X ~ Chi2(19.0000)\n",
      "For 19 degrees of freedom,\n",
      "P(Chi2 < 32.8523) = 0.9750\n",
      "For 19 degrees of freedom,\n",
      "P(Chi2 < 8.9065) = 0.0250\n",
      "(0.02602555379406035, 0.09599712769061876)\n"
     ]
    }
   ],
   "source": [
    "var = 0.045\n",
    "n = 20\n",
    "s_0 = 0.3\n",
    "\n",
    "chi = Chi2(n - 1)\n",
    "alpha = 0.05\n",
    "\n",
    "chi_statistic_lower = chi.inverse(alpha / 2)\n",
    "chi_statistic_upper = chi.inverse(1 - alpha / 2)\n",
    "\n",
    "\n",
    "lower = ((n - 1) * var) / chi_statistic_lower\n",
    "upper = ((n - 1) * var) / chi_statistic_upper\n",
    "\n",
    "print((lower, upper))"
   ]
  },
  {
   "cell_type": "code",
   "execution_count": 40,
   "metadata": {},
   "outputs": [
    {
     "name": "stdout",
     "output_type": "stream",
     "text": [
      "X ~ t(14.0000)\n",
      "For 14 degrees of freedom,\n",
      "P(T < 2.6245) = 0.9900\n"
     ]
    }
   ],
   "source": [
    "n = 15\n",
    "t = T(n - 1)\n",
    "alpha = 0.01\n",
    "t_alpha = t.inverse(alpha)"
   ]
  }
 ],
 "metadata": {
  "interpreter": {
   "hash": "31f2aee4e71d21fbe5cf8b01ff0e069b9275f58929596ceb00d14d90e3e16cd6"
  },
  "kernelspec": {
   "display_name": "Python 3.8.9 64-bit",
   "language": "python",
   "name": "python3"
  },
  "language_info": {
   "codemirror_mode": {
    "name": "ipython",
    "version": 3
   },
   "file_extension": ".py",
   "mimetype": "text/x-python",
   "name": "python",
   "nbconvert_exporter": "python",
   "pygments_lexer": "ipython3",
   "version": "3.8.9"
  },
  "orig_nbformat": 4
 },
 "nbformat": 4,
 "nbformat_minor": 2
}
