{
 "cells": [
  {
   "cell_type": "code",
   "execution_count": 1,
   "metadata": {},
   "outputs": [],
   "source": [
    "from Calculator import *"
   ]
  },
  {
   "cell_type": "code",
   "execution_count": 2,
   "metadata": {},
   "outputs": [
    {
     "data": {
      "text/plain": [
       "2.6530306120682865"
      ]
     },
     "execution_count": 2,
     "metadata": {},
     "output_type": "execute_result"
    }
   ],
   "source": [
    "cigarettes = [3.8, -0.9, 5.4, 4.5, 5.2, 5.6, 2.7, -0.1, -0.3, -1.7, 5.7, 3.3, 4.4, -0.5, 1.9]\n",
    "sqrt(variance(cigarettes))\n",
    "sqrt(variance([x + 12 for x in cigarettes]))"
   ]
  },
  {
   "cell_type": "code",
   "execution_count": 3,
   "metadata": {},
   "outputs": [
    {
     "name": "stdout",
     "output_type": "stream",
     "text": [
      "F ~ F(7.0000, 11.0000)\n",
      "P(F <= 4.8900) = 0.9900\n",
      "\n"
     ]
    },
    {
     "data": {
      "text/plain": [
       "0.9900295082045452"
      ]
     },
     "execution_count": 3,
     "metadata": {},
     "output_type": "execute_result"
    }
   ],
   "source": [
    "n1 = 8\n",
    "n2 = 12\n",
    "\n",
    "f = F(n1 - 1, n2 - 1)\n",
    "f.leqCDF(4.89)"
   ]
  },
  {
   "cell_type": "code",
   "execution_count": 4,
   "metadata": {},
   "outputs": [
    {
     "data": {
      "text/plain": [
       "2446800000.0"
      ]
     },
     "execution_count": 4,
     "metadata": {},
     "output_type": "execute_result"
    }
   ],
   "source": [
    "sample = [395_000, 521_000, 483_000, 479_000, 510_000]\n",
    "variance(sample)"
   ]
  },
  {
   "cell_type": "code",
   "execution_count": 5,
   "metadata": {},
   "outputs": [
    {
     "name": "stdout",
     "output_type": "stream",
     "text": [
      "Y ~ poisson(12.0000)\n",
      "P(Y = 15.0000) = 0.0724\n",
      "\n",
      "P(Y <= 9.0000) = 0.2424\n",
      "\n"
     ]
    },
    {
     "data": {
      "text/plain": [
       "0.24239216167051245"
      ]
     },
     "execution_count": 5,
     "metadata": {},
     "output_type": "execute_result"
    }
   ],
   "source": [
    "mu = 6\n",
    "Y = Poisson(mu*2, \"Y\")\n",
    "Y.pdf(15)\n",
    "Y.leqCDF(9)"
   ]
  },
  {
   "cell_type": "code",
   "execution_count": 6,
   "metadata": {},
   "outputs": [
    {
     "name": "stdout",
     "output_type": "stream",
     "text": [
      "F ~ F(24.0000, 30.0000)\n",
      "P(F > 1.8900) = 0.0496\n",
      "\n"
     ]
    },
    {
     "data": {
      "text/plain": [
       "0.049632815214397996"
      ]
     },
     "execution_count": 6,
     "metadata": {},
     "output_type": "execute_result"
    }
   ],
   "source": [
    "n1 = 25\n",
    "n2 = 31\n",
    "\n",
    "sigma1_2 = 10\n",
    "sigma2_2 = 15\n",
    "\n",
    "f = F(n1 - 1, n2 - 1)\n",
    "f.gtCDF(1.5 * 1.26)"
   ]
  },
  {
   "cell_type": "code",
   "execution_count": 7,
   "metadata": {},
   "outputs": [
    {
     "name": "stdout",
     "output_type": "stream",
     "text": [
      "X ~ N(5000.0000, 66.6667^2)\n",
      "P(X <= 5200.0000) = 0.9987\n",
      "\n",
      "P(X <= 4800.0000) = 0.0013\n",
      "\n",
      "P(4800.0000 <= X <= 5200.0000) = 0.9973002039367398\n",
      "\n",
      "The 99.0% CI for the population mean based on X is (4828.278046430073, 5171.721953569927)\n",
      "P(Z > 2.5758) = 0.0050\n"
     ]
    }
   ],
   "source": [
    "mu = 5000\n",
    "sigma = 400\n",
    "n = 36\n",
    "\n",
    "X = Normal(mu, sigma / sqrt(n))\n",
    "X.rangeCDF(4800, 5200)\n",
    "X.interval(0.99)\n",
    "\n",
    "alpha = 0.01\n",
    "z_alpha = Normal.inverse(alpha / 2)"
   ]
  },
  {
   "cell_type": "code",
   "execution_count": 8,
   "metadata": {},
   "outputs": [
    {
     "name": "stdout",
     "output_type": "stream",
     "text": [
      "54100.0 33655555.55555555 33.655555555555544\n",
      "T ~ t(9.0000)\n",
      "For 9 degrees of freedom,\n",
      "P(T < 2.2622) = 0.9750\n",
      "T = ( 54100.0000 - 53000.0000 ) / ( 5801.3408 / sqrt(10.0000 )) = 0.5996,\n",
      "P(T <= 0.5996) = 0.7182\n",
      "\n"
     ]
    },
    {
     "data": {
      "text/plain": [
       "0.7182193731307898"
      ]
     },
     "execution_count": 8,
     "metadata": {},
     "output_type": "execute_result"
    }
   ],
   "source": [
    "sample = [48_000, 53_000, 45_000, 61_000, 59_000, 56_000, 63_000, 49_000, 53_000, 54_000]\n",
    "var = variance(sample)\n",
    "var2 = variance([x/1000 - 55 for x in sample])\n",
    "\n",
    "xbar = mean(sample)\n",
    "print(xbar, var, var2)\n",
    "\n",
    "n = len(sample)\n",
    "mu = 53_000\n",
    "t = T(n-1)\n",
    "alpha = 0.05\n",
    "t.inverse(alpha / 2)\n",
    "\n",
    "T.statistic(xbar, mu, sqrt(var), n)\n",
    "\n",
    "t.leqCDF(0.5996)"
   ]
  },
  {
   "cell_type": "code",
   "execution_count": 9,
   "metadata": {},
   "outputs": [
    {
     "name": "stdout",
     "output_type": "stream",
     "text": [
      "D ~ N(0.0000, 1.5811^2)\n",
      "P(D > 4.0000) = 0.0057\n",
      "\n"
     ]
    },
    {
     "data": {
      "text/plain": [
       "0.005706018193000872"
      ]
     },
     "execution_count": 9,
     "metadata": {},
     "output_type": "execute_result"
    }
   ],
   "source": [
    "n_A = 20\n",
    "n_B = 20\n",
    "xbar_A = 20.5\n",
    "xbar_B = 24.5\n",
    "\n",
    "sigma_A = 5 / sqrt(n_A)\n",
    "sigma_B = 5 / sqrt(n_B)\n",
    "\n",
    "xbar_D = xbar_B - xbar_A\n",
    "sigma_D = sqrt(sigma_A**2 + sigma_B**2)\n",
    "mu_D = 0\n",
    "\n",
    "D = Normal(mu_D, sigma_D, \"D\")\n",
    "D.gtCDF(4)\n",
    "\n"
   ]
  },
  {
   "cell_type": "code",
   "execution_count": 10,
   "metadata": {},
   "outputs": [
    {
     "name": "stdout",
     "output_type": "stream",
     "text": [
      "X ~ N(65.0000, 0.9129^2)\n",
      "P(X <= 64.5000) = 0.2919\n",
      "\n",
      "X ~ N(0.0000, 1.2910^2)\n",
      "P(X > 5.5000) = 0.0000\n",
      "\n"
     ]
    },
    {
     "data": {
      "text/plain": [
       "1.0208471420192211e-05"
      ]
     },
     "execution_count": 10,
     "metadata": {},
     "output_type": "execute_result"
    }
   ],
   "source": [
    "xbar_A = 64.5\n",
    "sigma = 5\n",
    "n = 30\n",
    "mu = 65\n",
    "\n",
    "sigma_A = sigma / sqrt(n)\n",
    "\n",
    "X_A = Normal(mu, sigma_A)\n",
    "X_A.leqCDF(64.5)\n",
    "\n",
    "xbar_B = 70\n",
    "sigma_B = sigma_A\n",
    "\n",
    "mu_D = 0\n",
    "xbar_D = xbar_B - xbar_A\n",
    "\n",
    "sigma_D = sqrt(sigma_A**2 + sigma_B**2)\n",
    "\n",
    "D = Normal(0, sigma_D)\n",
    "D.gtCDF(5.5)"
   ]
  },
  {
   "cell_type": "code",
   "execution_count": 11,
   "metadata": {},
   "outputs": [
    {
     "name": "stdout",
     "output_type": "stream",
     "text": [
      "X ~ N(9.0000, 1.0000^2)\n",
      "P(X <= 10.5000) = 0.9332\n",
      "\n",
      "P(X <= 7.5000) = 0.0668\n",
      "\n",
      "P(7.5000 <= X <= 10.5000) = 0.8663855974622838\n",
      "\n",
      "P(Z > 2.5758) = 0.0050\n"
     ]
    },
    {
     "data": {
      "text/plain": [
       "0.5823367246941965"
      ]
     },
     "execution_count": 11,
     "metadata": {},
     "output_type": "execute_result"
    }
   ],
   "source": [
    "mu = 9\n",
    "sigma = 1\n",
    "X = Normal(mu, sigma)\n",
    "X.rangeCDF(7.5, 10.5)\n",
    "\n",
    "1.5 / Normal.inverse(0.005)"
   ]
  }
 ],
 "metadata": {
  "interpreter": {
   "hash": "31f2aee4e71d21fbe5cf8b01ff0e069b9275f58929596ceb00d14d90e3e16cd6"
  },
  "kernelspec": {
   "display_name": "Python 3.8.9 64-bit",
   "language": "python",
   "name": "python3"
  },
  "language_info": {
   "codemirror_mode": {
    "name": "ipython",
    "version": 3
   },
   "file_extension": ".py",
   "mimetype": "text/x-python",
   "name": "python",
   "nbconvert_exporter": "python",
   "pygments_lexer": "ipython3",
   "version": "3.8.9"
  },
  "orig_nbformat": 4
 },
 "nbformat": 4,
 "nbformat_minor": 2
}
