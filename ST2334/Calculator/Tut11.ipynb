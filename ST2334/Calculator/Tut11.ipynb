{
 "cells": [
  {
   "cell_type": "code",
   "execution_count": 1,
   "metadata": {},
   "outputs": [],
   "source": [
    "from Calculator import *"
   ]
  },
  {
   "cell_type": "markdown",
   "metadata": {},
   "source": [
    "# Q1"
   ]
  },
  {
   "cell_type": "code",
   "execution_count": 2,
   "metadata": {},
   "outputs": [
    {
     "name": "stdout",
     "output_type": "stream",
     "text": [
      "X ~ N(788.0000, 7.3030^2)\n",
      "P(Z > 1.9600) = 0.0250\n",
      "Z = (800.0000 - 788.0000) / 7.3030 = 1.6432\n",
      "The 95.0% CI for the population mean based on X is (773.6864468502628, 802.3135531497372)\n",
      "Y ~ N(800.0000, 7.3030^2)\n",
      "The 95.0% CI for the population mean based on Y is (785.6864468502628, 814.3135531497372)\n",
      "Z ~ N(790.0000, 7.3030^2)\n",
      "P(785.6864 <= Z <= 814.3136) = 0.7221896964324692\n",
      "\n",
      "Z ~ N(0.0000, 1.0000^2)\n",
      "Z = (785.6864 - 790.0000) / 7.3030 = -0.5907\n",
      "Z = (814.3136 - 790.0000) / 7.3030 = 3.3293\n",
      "P(-0.5907 <= Z <= 3.3293) = 0.7221896964324692\n",
      "\n"
     ]
    },
    {
     "data": {
      "text/plain": [
       "0.7221896964324692"
      ]
     },
     "execution_count": 2,
     "metadata": {},
     "output_type": "execute_result"
    }
   ],
   "source": [
    "# a)\n",
    "mu = 800\n",
    "mu0 = 788\n",
    "sigma = 40 / sqrt(30)\n",
    "X = Normal(mu0, sigma, \"X\")\n",
    "\n",
    "alpha = 0.05\n",
    "z_alpha2 = Normal.inverse(alpha / 2) \n",
    "Normal.statistic(mu, mu0, sigma)\n",
    "\n",
    "# b)\n",
    "X.interval(0.95)\n",
    "\n",
    "# c)\n",
    "# - find endpoint(s) of \"do not reject H_0\" region given H_0 is true\n",
    "Y = Normal(mu, sigma, \"Y\")\n",
    "CI = Y.interval(0.95)\n",
    "\n",
    "mu1 = 790\n",
    "Z = Normal(mu1, sigma, \"Z\")\n",
    "Z.rangeCDF(CI[0], CI[1])\n",
    "\n",
    "# Equivalently\n",
    "Z = Normal(0, 1, \"Z\")\n",
    "Z.rangeCDF(Normal.statistic(CI[0], mu1, sigma), Normal.statistic(CI[1], mu1, sigma))"
   ]
  },
  {
   "cell_type": "markdown",
   "metadata": {},
   "source": [
    "# Q2    "
   ]
  },
  {
   "cell_type": "code",
   "execution_count": 3,
   "metadata": {},
   "outputs": [
    {
     "name": "stdout",
     "output_type": "stream",
     "text": [
      "T ~ t(9.0000)\n",
      "X ~ t(9.0000)\n",
      "For 9 degrees of freedom,\n",
      "P(T < 3.2498) = 0.9950\n",
      "T = ( 10.0600 - 10.0000 ) / ( 0.2459 / sqrt(10.0000 )) = 0.7717,\n",
      "chi2 ~ Chi2(9.0000)\n",
      "For 9 degrees of freedom,\n",
      "P(Chi2 < 19.0228) = 0.9750\n",
      "Chi2 = ( (10-1) * 0.24585451886114376^2 ) / 0.17320508075688773^2 = 18.1333,\n"
     ]
    },
    {
     "data": {
      "text/plain": [
       "18.13333333333335"
      ]
     },
     "execution_count": 3,
     "metadata": {},
     "output_type": "execute_result"
    }
   ],
   "source": [
    "sample = [10.2, 9.7, 10.1, 10.3, 10.1, 9.8, 9.9, 10.4, 10.3, 9.8]\n",
    "xbar = mean(sample)\n",
    "mu = 10\n",
    "s2 = variance(sample)\n",
    "n = 10\n",
    "\n",
    "t = T(n - 1, \"T\")\n",
    "alpha = 0.01\n",
    "t_alpha2 = T(n-1).inverse(alpha / 2)\n",
    "T.statistic(xbar, mu, sqrt(s2), n)\n",
    "\n",
    "chi2 = Chi2(n-1, \"chi2\")\n",
    "alpha = 0.05\n",
    "sigma2 = 0.03\n",
    "chi2.inverse(alpha / 2)\n",
    "Chi2.statistic(n, sqrt(s2), sqrt(sigma2))"
   ]
  },
  {
   "cell_type": "markdown",
   "metadata": {},
   "source": [
    "# Q3"
   ]
  },
  {
   "cell_type": "code",
   "execution_count": 5,
   "metadata": {},
   "outputs": [
    {
     "name": "stdout",
     "output_type": "stream",
     "text": [
      "X^2 ~ Chi2(24.0000)\n",
      "For 24 degrees of freedom,\n",
      "P(Chi2 < 36.4150) = 0.9500\n",
      "Chi2 = ( (25-1) * 1.4247806848775006^2 ) / 1.0723805294763609^2 = 42.3652,\n"
     ]
    },
    {
     "data": {
      "text/plain": [
       "42.36521739130434"
      ]
     },
     "execution_count": 5,
     "metadata": {},
     "output_type": "execute_result"
    }
   ],
   "source": [
    "n = 25\n",
    "sigma2 = 1.15\n",
    "var = 2.03\n",
    "\n",
    "chi2 = Chi2(n-1, \"X^2\")\n",
    "alpha = 0.05\n",
    "chi2_alpha2 = chi2.inverse(alpha)\n",
    "\n",
    "Chi2.statistic(n, sqrt(var), sqrt(sigma2))"
   ]
  },
  {
   "cell_type": "markdown",
   "metadata": {},
   "source": [
    "# Q4"
   ]
  },
  {
   "cell_type": "code",
   "execution_count": 10,
   "metadata": {},
   "outputs": [
    {
     "name": "stdout",
     "output_type": "stream",
     "text": [
      "P(Z > 1.6449) = 0.0500\n",
      "Z = (8.9000 - 12.0000) / 1.1909 = -2.6031\n"
     ]
    },
    {
     "data": {
      "text/plain": [
       "-2.603103416514782"
      ]
     },
     "execution_count": 10,
     "metadata": {},
     "output_type": "execute_result"
    }
   ],
   "source": [
    "xbar_A = 86.7\n",
    "xbar_B = 77.8\n",
    "\n",
    "sigma_A = 6.28 / sqrt(50)\n",
    "sigma_B = 5.61 / sqrt(50)\n",
    "\n",
    "xbar = xbar_A - xbar_B\n",
    "sigma = sqrt(sigma_A**2 + sigma_B**2)\n",
    "\n",
    "mu = 12\n",
    "alpha = 0.05\n",
    "Normal.inverse(alpha)\n",
    "Normal.statistic(xbar, mu, sigma, 1)"
   ]
  },
  {
   "cell_type": "markdown",
   "metadata": {},
   "source": [
    "# Q5"
   ]
  },
  {
   "cell_type": "code",
   "execution_count": 12,
   "metadata": {},
   "outputs": [
    {
     "name": "stdout",
     "output_type": "stream",
     "text": [
      "P(Z > 2.5758) = 0.0050\n",
      "(1.9074544239184439, 12.092545576081555)\n",
      "X ~ t(28.0000)\n",
      "For 28 degrees of freedom,\n",
      "P(T < 1.7011) = 0.9500\n",
      "For 28 degrees of freedom,\n",
      "P(T < -1.7011) = 0.0500\n",
      "3.540627149127264\n"
     ]
    }
   ],
   "source": [
    "n_A = 12\n",
    "n_B = 18\n",
    "\n",
    "xbar_A = 84\n",
    "xbar_B = 77\n",
    "\n",
    "s_A = 4\n",
    "s_B = 6\n",
    "s_P = sqrt(((n_A - 1) * s_A**2 + (n_B -1) * s_B**2) / (n_A + n_B -2))\n",
    "\n",
    "x = sqrt(s_P**2 * (1/n_A + 1/n_B))\n",
    "\n",
    "xbar = xbar_A - xbar_B\n",
    "\n",
    "z_alpha = Normal.inverse(0.005)\n",
    "print((xbar - z_alpha * x, xbar + z_alpha * x))\n",
    "\n",
    "t = T(n_A + n_B - 2)\n",
    "alpha = 0.05\n",
    "mu = 0\n",
    "\n",
    "t.inverse(alpha)\n",
    "t.inverse(1-alpha)\n",
    "\n",
    "t_statistic = (xbar - mu) / x\n",
    "print(t_statistic)"
   ]
  },
  {
   "cell_type": "markdown",
   "metadata": {},
   "source": [
    "# Q6"
   ]
  },
  {
   "cell_type": "code",
   "execution_count": 21,
   "metadata": {},
   "outputs": [
    {
     "name": "stdout",
     "output_type": "stream",
     "text": [
      "0.1416666666666666 0.039015151515151496\n",
      "T ~ t(11.0000)\n",
      "For 11 degrees of freedom,\n",
      "P(T < 2.2010) = 0.9750\n",
      "For 11 degrees of freedom,\n",
      "P(T < 1.7959) = 0.9500\n"
     ]
    },
    {
     "data": {
      "text/plain": [
       "1.7958848187036691"
      ]
     },
     "execution_count": 21,
     "metadata": {},
     "output_type": "execute_result"
    }
   ],
   "source": [
    "sample = [(4.2, 4.1), (4.7, 4.9), (6.6, 6.2), (7, 6.9), (6.7, 6.8), (4.5, 4.4), (5.7, 5.7), (6, 5.8), (7.4, 6.9), (4.9, 4.7), (6.1, 6), (5.2, 4.9)]\n",
    "diff = [x[0] - x[1] for x in sample]\n",
    "n = 12\n",
    "mu = mean(diff)\n",
    "var = (variance(diff))\n",
    "print(mu, var)\n",
    "\n",
    "t = T(n-1, \"T\")\n",
    "alpha = 0.05\n",
    "t.inverse(alpha / 2)\n",
    "\n",
    "t.inverse(alpha)\n"
   ]
  },
  {
   "cell_type": "markdown",
   "metadata": {},
   "source": [
    "# Q7"
   ]
  },
  {
   "cell_type": "code",
   "execution_count": null,
   "metadata": {},
   "outputs": [
    {
     "name": "stdout",
     "output_type": "stream",
     "text": [
      "For (10, 13) degrees of freedom,\n",
      "P(F < 2.6710) = 0.9500\n"
     ]
    },
    {
     "data": {
      "text/plain": [
       "2.671024228555126"
      ]
     },
     "execution_count": 39,
     "metadata": {},
     "output_type": "execute_result"
    }
   ],
   "source": [
    "n_M = 11\n",
    "n_W = 14\n",
    "\n",
    "s_M = 6.1\n",
    "s_W = 5.3\n",
    "\n",
    "F(n_M - 1, n_W - 1).inverse(0.05)\n",
    "\n",
    "s_M**2 / s_W**2"
   ]
  },
  {
   "cell_type": "markdown",
   "metadata": {},
   "source": [
    "# Q8"
   ]
  },
  {
   "cell_type": "code",
   "execution_count": null,
   "metadata": {},
   "outputs": [
    {
     "name": "stdout",
     "output_type": "stream",
     "text": [
      "78.8 913.3333333333334\n",
      "For (4, 6) degrees of freedom,\n",
      "P(F < 6.2272) = 0.9750\n",
      "For (4, 6) degrees of freedom,\n",
      "P(F < 0.1087) = 0.0250\n"
     ]
    },
    {
     "data": {
      "text/plain": [
       "0.7935198318110115"
      ]
     },
     "execution_count": 45,
     "metadata": {},
     "output_type": "execute_result"
    }
   ],
   "source": [
    "company1 = [102, 86, 98, 109, 92]\n",
    "company2 = [81, 165, 97, 134, 92, 87, 114]\n",
    "\n",
    "n1 = len(company1)\n",
    "n2 = len(company2)\n",
    "\n",
    "var1 = variance(company1)\n",
    "var2 = variance(company2)\n",
    "\n",
    "print(var1, var2)\n",
    "\n",
    "F_025 = F(n1 - 1, n2 - 1).inverse(0.025)\n",
    "F_975 = F(n1 - 1, n2 - 1).inverse(0.975)\n",
    "\n",
    "s = var1 / var2\n",
    "\n",
    "s * (1 / F_025)\n",
    "s * (1 / F_975)\n"
   ]
  },
  {
   "cell_type": "code",
   "execution_count": null,
   "metadata": {},
   "outputs": [],
   "source": []
  }
 ],
 "metadata": {
  "interpreter": {
   "hash": "e534e48711db4d1e1c48977d0d14ff85b1f16d41bcc4fdfd88268a329b3c9d66"
  },
  "kernelspec": {
   "display_name": "Python 3.7.6 64-bit",
   "language": "python",
   "name": "python3"
  },
  "language_info": {
   "codemirror_mode": {
    "name": "ipython",
    "version": 3
   },
   "file_extension": ".py",
   "mimetype": "text/x-python",
   "name": "python",
   "nbconvert_exporter": "python",
   "pygments_lexer": "ipython3",
   "version": "3.7.6"
  },
  "orig_nbformat": 4
 },
 "nbformat": 4,
 "nbformat_minor": 2
}
