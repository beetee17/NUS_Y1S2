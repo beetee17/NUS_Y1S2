{
 "cells": [
  {
   "cell_type": "code",
   "execution_count": 1,
   "metadata": {},
   "outputs": [],
   "source": [
    "from Calculator import *"
   ]
  },
  {
   "cell_type": "code",
   "execution_count": 13,
   "metadata": {},
   "outputs": [
    {
     "name": "stdout",
     "output_type": "stream",
     "text": [
      "X ~ B(15.0000, 0.0500)\n",
      "P(X > 1.0000) = 0.1710\n",
      "\n",
      "X ~ B(15.0000, 0.0700)\n",
      "P(X <= 1.0000) = 0.7168\n",
      "\n"
     ]
    },
    {
     "data": {
      "text/plain": [
       "0.7168469966260175"
      ]
     },
     "execution_count": 13,
     "metadata": {},
     "output_type": "execute_result"
    }
   ],
   "source": [
    "X = Binomial(15, 0.05)\n",
    "X.gtCDF(1)\n",
    "\n",
    "Y = Binomial(15, 0.07)\n",
    "Y.leqCDF(1)"
   ]
  },
  {
   "cell_type": "code",
   "execution_count": 14,
   "metadata": {},
   "outputs": [
    {
     "name": "stdout",
     "output_type": "stream",
     "text": [
      "X ~ B(100.0000, 0.0100)\n",
      "P(X > 3.0000) = 0.0184\n",
      "\n",
      "X ~ B(100.0000, 0.0500)\n",
      "P(X <= 3.0000) = 0.2578\n",
      "\n"
     ]
    },
    {
     "data": {
      "text/plain": [
       "0.2578386591160152"
      ]
     },
     "execution_count": 14,
     "metadata": {},
     "output_type": "execute_result"
    }
   ],
   "source": [
    "X = Binomial(100, 0.01)\n",
    "X.gtCDF(3)\n",
    "\n",
    "Y = Binomial(100, 0.05)\n",
    "Y.leqCDF(3)"
   ]
  },
  {
   "cell_type": "code",
   "execution_count": 17,
   "metadata": {},
   "outputs": [
    {
     "name": "stdout",
     "output_type": "stream",
     "text": [
      "X ~ poisson(2.7000)\n",
      "P(X <= 4.0000) = 0.8629\n",
      "\n",
      "P(X <= 1.0000) = 0.2487\n",
      "\n",
      "Y ~ poisson(13.5000)\n",
      "P(Y > 10.0000) = 0.7888\n",
      "\n"
     ]
    },
    {
     "data": {
      "text/plain": [
       "0.7887735230627304"
      ]
     },
     "execution_count": 17,
     "metadata": {},
     "output_type": "execute_result"
    }
   ],
   "source": [
    "X = Poisson(2.7)\n",
    "X.leqCDF(4)\n",
    "X.leqCDF(1)\n",
    "\n",
    "Y = Poisson(5*2.7, \"Y\")\n",
    "Y.gtCDF(10)"
   ]
  },
  {
   "cell_type": "code",
   "execution_count": 18,
   "metadata": {},
   "outputs": [
    {
     "name": "stdout",
     "output_type": "stream",
     "text": [
      "Y ~ poisson(1.0000)\n",
      "P(Y > 1.0000) = 0.2642\n",
      "\n",
      "Z ~ poisson(1.2500)\n",
      "P(Z <= 1.0000) = 0.6446\n",
      "\n"
     ]
    },
    {
     "data": {
      "text/plain": [
       "0.6446357929354278"
      ]
     },
     "execution_count": 18,
     "metadata": {},
     "output_type": "execute_result"
    }
   ],
   "source": [
    "Y = Poisson(1, \"Y\")\n",
    "Y.gtCDF(1)\n",
    "\n",
    "Z = Poisson(0.25 * 5, \"Z\")\n",
    "Z.leqCDF(1)"
   ]
  },
  {
   "cell_type": "code",
   "execution_count": 19,
   "metadata": {},
   "outputs": [
    {
     "name": "stdout",
     "output_type": "stream",
     "text": [
      "X ~ poisson(5.0000)\n",
      "P(X = 0.0000) = 0.0067\n",
      "\n",
      "P(X > 5.0000) = 0.3840\n",
      "\n"
     ]
    },
    {
     "data": {
      "text/plain": [
       "0.38403934516693705"
      ]
     },
     "execution_count": 19,
     "metadata": {},
     "output_type": "execute_result"
    }
   ],
   "source": [
    "X = Poisson(100 * (3 / 60))\n",
    "X.pdf(0)\n",
    "\n",
    "X.gtCDF(5)"
   ]
  },
  {
   "cell_type": "code",
   "execution_count": 23,
   "metadata": {},
   "outputs": [
    {
     "name": "stdout",
     "output_type": "stream",
     "text": [
      "X ~ B(5.0000, 0.4000)\n",
      "P(X > 2.0000) = 0.3174\n",
      "\n"
     ]
    },
    {
     "data": {
      "text/plain": [
       "0.31744000000000006"
      ]
     },
     "execution_count": 23,
     "metadata": {},
     "output_type": "execute_result"
    }
   ],
   "source": [
    "X = Binomial(5, 200 / 500)\n",
    "X.gtCDF(2)"
   ]
  },
  {
   "cell_type": "code",
   "execution_count": 8,
   "metadata": {},
   "outputs": [
    {
     "name": "stdout",
     "output_type": "stream",
     "text": [
      "X ~ NB(10.0000), 0.9900\n",
      "P(X = 11) = 0.09043820750088051\n",
      "\n",
      "P(X = 12) = 0.004974101412548435\n",
      "\n"
     ]
    },
    {
     "data": {
      "text/plain": [
       "0.004974101412548435"
      ]
     },
     "execution_count": 8,
     "metadata": {},
     "output_type": "execute_result"
    }
   ],
   "source": [
    "X = NegativeBinomial(10, 0.990)\n",
    "X.pdf(11, verbose=True)\n",
    "X.pdf(12)"
   ]
  },
  {
   "cell_type": "code",
   "execution_count": 26,
   "metadata": {},
   "outputs": [
    {
     "name": "stdout",
     "output_type": "stream",
     "text": [
      "X ~ B(10.0000, 0.2500)\n",
      "P(X = 1.0000) = 0.1877\n",
      "\n",
      "X ~ NB(1.0000), 0.2500\n",
      "P(X = 10) = 0.018771171569824215\n",
      "\n"
     ]
    },
    {
     "data": {
      "text/plain": [
       "0.018771171569824215"
      ]
     },
     "execution_count": 26,
     "metadata": {},
     "output_type": "execute_result"
    }
   ],
   "source": [
    "X = Binomial(10, 0.25)\n",
    "X.pdf(1, verbose=True)\n",
    "\n",
    "Y = NegativeBinomial(1, 0.25)\n",
    "Y.pdf(10, verbose=True)"
   ]
  },
  {
   "cell_type": "code",
   "execution_count": 10,
   "metadata": {},
   "outputs": [
    {
     "name": "stdout",
     "output_type": "stream",
     "text": [
      "X ~ NB(2.0000), 0.5000\n",
      "P(X = 4) = 0.18750000000000017\n",
      "\n"
     ]
    },
    {
     "data": {
      "text/plain": [
       "0.18750000000000017"
      ]
     },
     "execution_count": 10,
     "metadata": {},
     "output_type": "execute_result"
    }
   ],
   "source": [
    "X = NegativeBinomial(2, 0.5)\n",
    "X.pdf(4)"
   ]
  },
  {
   "cell_type": "code",
   "execution_count": 28,
   "metadata": {},
   "outputs": [
    {
     "name": "stdout",
     "output_type": "stream",
     "text": [
      "X ~ B(500.0000, 0.0100)\n",
      "P(X > 14.0000) = 0.0002\n",
      "\n",
      "P(X = 3.0000) = 0.1402\n",
      "\n",
      "Y ~ poisson(5.0000)\n",
      "P(Y > 14.0000) = 0.0002\n",
      "\n",
      "P(Y = 3.0000) = 0.1404\n",
      "\n"
     ]
    },
    {
     "data": {
      "text/plain": [
       "0.1403738958142805"
      ]
     },
     "execution_count": 28,
     "metadata": {},
     "output_type": "execute_result"
    }
   ],
   "source": [
    "X = Binomial(500, 0.01)\n",
    "X.gtCDF(14, verbose=True)\n",
    "X.pdf(3, verbose=True)\n",
    "\n",
    "Y = Poisson(500 * 0.01, \"Y\")\n",
    "Y.gtCDF(14, verbose=True)\n",
    "Y.pdf(3, verbose=True)"
   ]
  },
  {
   "cell_type": "code",
   "execution_count": 29,
   "metadata": {},
   "outputs": [
    {
     "name": "stdout",
     "output_type": "stream",
     "text": [
      "X ~ B(3.0000, 0.8000)\n",
      "P(X = 0.0000) = 0.0080\n",
      "\n",
      "P(X = 1.0000) = 0.0960\n",
      "\n",
      "P(X > 1.0000) = 0.8960\n",
      "\n"
     ]
    },
    {
     "data": {
      "text/plain": [
       "0.896"
      ]
     },
     "execution_count": 29,
     "metadata": {},
     "output_type": "execute_result"
    }
   ],
   "source": [
    "X = Binomial(3, 0.8)\n",
    "X.pdf(0)\n",
    "X.pdf(1)\n",
    "X.gtCDF(1)"
   ]
  }
 ],
 "metadata": {
  "interpreter": {
   "hash": "31f2aee4e71d21fbe5cf8b01ff0e069b9275f58929596ceb00d14d90e3e16cd6"
  },
  "kernelspec": {
   "display_name": "Python 3.8.9 64-bit",
   "language": "python",
   "name": "python3"
  },
  "language_info": {
   "codemirror_mode": {
    "name": "ipython",
    "version": 3
   },
   "file_extension": ".py",
   "mimetype": "text/x-python",
   "name": "python",
   "nbconvert_exporter": "python",
   "pygments_lexer": "ipython3",
   "version": "3.8.9"
  },
  "orig_nbformat": 4
 },
 "nbformat": 4,
 "nbformat_minor": 2
}
