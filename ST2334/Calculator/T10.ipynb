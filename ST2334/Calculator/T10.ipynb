{
 "cells": [
  {
   "cell_type": "code",
   "execution_count": 13,
   "metadata": {},
   "outputs": [],
   "source": [
    "from Calculator import *"
   ]
  },
  {
   "cell_type": "code",
   "execution_count": 14,
   "metadata": {},
   "outputs": [
    {
     "name": "stdout",
     "output_type": "stream",
     "text": [
      "P(X >= 36.4000) = 0.0502\n",
      "\n",
      "P(13.8480 <= X <= 42.9800) = 0.9400096585599763\n",
      "\n"
     ]
    },
    {
     "data": {
      "text/plain": [
       "0.9400096585599763"
      ]
     },
     "execution_count": 14,
     "metadata": {},
     "output_type": "execute_result"
    }
   ],
   "source": [
    "n = 25\n",
    "sigma2 = 6\n",
    "chi = Chi2(n-1)\n",
    "\n",
    "chi.geqCDF(Chi2.of(n, sqrt(9.1), sqrt(sigma2)))\n",
    "\n",
    "chi.rangeCDF(Chi2.of(n, sqrt(3.462), sqrt(sigma2)), Chi2.of(n, sqrt(10.745), sqrt(sigma2)))"
   ]
  },
  {
   "cell_type": "code",
   "execution_count": 15,
   "metadata": {},
   "outputs": [
    {
     "name": "stdout",
     "output_type": "stream",
     "text": [
      "1.4423076923076923\n",
      "P(F >= 1.4423) = 0.3436\n",
      "\n"
     ]
    },
    {
     "data": {
      "text/plain": [
       "0.3435947909101962"
      ]
     },
     "execution_count": 15,
     "metadata": {},
     "output_type": "execute_result"
    }
   ],
   "source": [
    "S1_sq = sample_variance([8260, 8130, 8350, 8070, 8340])\n",
    "S2_sq = sample_variance([7950, 7890, 7900, 8140, 7920, 7840])\n",
    "print(S1_sq / S2_sq)\n",
    "\n",
    "f = F(4, 5, \"F\")\n",
    "f.geqCDF(S1_sq / S2_sq)"
   ]
  },
  {
   "cell_type": "code",
   "execution_count": 16,
   "metadata": {},
   "outputs": [
    {
     "name": "stdout",
     "output_type": "stream",
     "text": [
      "For 1 degrees of freedom,\n",
      "P(T < 6.3138) = 0.9500\n",
      "For 5 degrees of freedom,\n",
      "P(T < 0.9195) = 0.8000\n",
      "P(Z < 1.9600) = 0.9750\n"
     ]
    },
    {
     "data": {
      "text/plain": [
       "1.959963984540054"
      ]
     },
     "execution_count": 16,
     "metadata": {},
     "output_type": "execute_result"
    }
   ],
   "source": [
    "\n",
    "T.inverse(1, 0.05)\n",
    "T.inverse(5, 0.2)\n",
    "Normal.inverse(0.025)"
   ]
  },
  {
   "cell_type": "code",
   "execution_count": 17,
   "metadata": {},
   "outputs": [
    {
     "name": "stdout",
     "output_type": "stream",
     "text": [
      "The 95.0% CI is (4.521304047283781, 5.178695952716218)\n"
     ]
    },
    {
     "data": {
      "text/plain": [
       "(4.521304047283781, 5.178695952716218)"
      ]
     },
     "execution_count": 17,
     "metadata": {},
     "output_type": "execute_result"
    }
   ],
   "source": [
    "Normal(4.85, sqrt(0.75**2 / 20)).interval(0.95)"
   ]
  },
  {
   "cell_type": "code",
   "execution_count": 18,
   "metadata": {},
   "outputs": [
    {
     "name": "stdout",
     "output_type": "stream",
     "text": [
      "For 19 degrees of freedom,\n",
      "P(T < 2.0930) = 0.9750\n"
     ]
    },
    {
     "data": {
      "text/plain": [
       "(4.500173295000034, 5.199826704999965)"
      ]
     },
     "execution_count": 18,
     "metadata": {},
     "output_type": "execute_result"
    }
   ],
   "source": [
    "n = 20\n",
    "T.inverse(n-1, 0.025)\n",
    "# T(n-1).interval(0.95)\n",
    "t.interval(0.95, n, 4.85, sqrt(0.75**2 / 20))"
   ]
  },
  {
   "cell_type": "code",
   "execution_count": 19,
   "metadata": {},
   "outputs": [
    {
     "name": "stdout",
     "output_type": "stream",
     "text": [
      "The 95.0% CI is (0.30966052427977714, 0.31033947572022286)\n"
     ]
    },
    {
     "data": {
      "text/plain": [
       "(0.30966052427977714, 0.31033947572022286)"
      ]
     },
     "execution_count": 19,
     "metadata": {},
     "output_type": "execute_result"
    }
   ],
   "source": [
    "mu = 0.310\n",
    "sigma = 0.0015 / sqrt(75)\n",
    "Normal(mu, sigma).interval(0.95)"
   ]
  },
  {
   "cell_type": "code",
   "execution_count": 55,
   "metadata": {},
   "outputs": [
    {
     "data": {
      "text/plain": [
       "(47.7223590623659, 49.2776409376341)"
      ]
     },
     "execution_count": 55,
     "metadata": {},
     "output_type": "execute_result"
    }
   ],
   "source": [
    "mu = 48.5\n",
    "S = 1.5 / sqrt(n)\n",
    "n = 12\n",
    "t(n-1, mu, S).interval(0.90)"
   ]
  },
  {
   "cell_type": "code",
   "execution_count": 47,
   "metadata": {},
   "outputs": [
    {
     "name": "stdout",
     "output_type": "stream",
     "text": [
      "The 94.0% CI is (2.89720882026335, 7.10279117973665)\n"
     ]
    },
    {
     "data": {
      "text/plain": [
       "(2.89720882026335, 7.10279117973665)"
      ]
     },
     "execution_count": 47,
     "metadata": {},
     "output_type": "execute_result"
    }
   ],
   "source": [
    "mu1 = 80\n",
    "sigma1 = 5 / sqrt(25)\n",
    "mu2 = 75\n",
    "sigma2 = 3 / sqrt(36)\n",
    "\n",
    "X = Normal(mu1-mu2, sqrt(sigma1**2 + sigma2**2))\n",
    "X.interval(0.94)"
   ]
  },
  {
   "cell_type": "code",
   "execution_count": 46,
   "metadata": {},
   "outputs": [
    {
     "name": "stdout",
     "output_type": "stream",
     "text": [
      "The 98.0% CI is (2.8043615467136798, 3.3956384532863195)\n"
     ]
    },
    {
     "data": {
      "text/plain": [
       "(2.8043615467136798, 3.3956384532863195)"
      ]
     },
     "execution_count": 46,
     "metadata": {},
     "output_type": "execute_result"
    }
   ],
   "source": [
    "mu1 = 12.2\n",
    "sigma1 = 1.1 / sqrt(100)\n",
    "mu2 = 9.1\n",
    "sigma2 = 0.9 / sqrt(200)\n",
    "\n",
    "X = Normal(mu1-mu2, sqrt(sigma1**2 + sigma2**2))\n",
    "X.interval(0.98)"
   ]
  }
 ],
 "metadata": {
  "interpreter": {
   "hash": "e534e48711db4d1e1c48977d0d14ff85b1f16d41bcc4fdfd88268a329b3c9d66"
  },
  "kernelspec": {
   "display_name": "Python 3.7.6 64-bit",
   "language": "python",
   "name": "python3"
  },
  "language_info": {
   "codemirror_mode": {
    "name": "ipython",
    "version": 3
   },
   "file_extension": ".py",
   "mimetype": "text/x-python",
   "name": "python",
   "nbconvert_exporter": "python",
   "pygments_lexer": "ipython3",
   "version": "3.7.6"
  },
  "orig_nbformat": 4
 },
 "nbformat": 4,
 "nbformat_minor": 2
}
